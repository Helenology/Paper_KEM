{
 "cells": [
  {
   "cell_type": "code",
   "execution_count": 1,
   "id": "88c1536e-726e-4165-bd89-154b2c86ccce",
   "metadata": {
    "tags": []
   },
   "outputs": [],
   "source": [
    "import numpy as np\n",
    "import matplotlib.pyplot as plt\n",
    "from glob import glob\n",
    "import SimpleITK as sitk\n",
    "import tensorflow as tf\n",
    "from tensorflow import keras\n",
    "from keras.layers import AveragePooling3D\n",
    "import time\n",
    "import copy\n",
    "from sklearn.cluster import KMeans\n",
    "import pandas as pd\n",
    "import gc\n",
    "from sklearn.linear_model import LinearRegression\n",
    "import math\n",
    "import tensorflow as tf\n",
    "from multiprocessing import Process, Manager\n",
    "import datetime\n",
    "import sys\n",
    "import csv\n",
    "import os\n",
    "from tensorflow.keras.utils import to_categorical\n",
    "\n",
    "sys.path.append('../')\n",
    "sys.path.append('../Models/')\n",
    "sys.path.append('../KEM_simulation/')\n",
    "sys.path.append('../KEM_experiment/')\n",
    "\n",
    "from utils import *\n",
    "from GMM import *\n",
    "from Kmeans import *\n",
    "from experiment_auxiliary import *\n",
    "from data_generate import *  # 参数生成文件\n",
    "from KEM_SIMU import *  # KEM 类\n",
    "from scipy.ndimage import zoom"
   ]
  },
  {
   "cell_type": "code",
   "execution_count": 2,
   "id": "cd5021e7-5b3c-4cf0-b6e2-993ee1d2fc8c",
   "metadata": {
    "tags": []
   },
   "outputs": [],
   "source": [
    "num_gpu = 1\n",
    "gpu_name = 0\n",
    "os.environ[\"CUDA_VISIBLE_DEVICES\"] = f\"{gpu_name}\""
   ]
  },
  {
   "cell_type": "code",
   "execution_count": 3,
   "id": "ffa308b8-2c8e-44d8-82c1-44e3139dfac6",
   "metadata": {},
   "outputs": [],
   "source": [
    "K = 0  # the number of classes\n",
    "index = 0 # tour the index th CT data: index = 0\n",
    "depth = 99\n",
    "\n",
    "lung_image_path = \"/database/datasets/Classics/LUNA2016/IMAGES/\"  # a folder of CT data\n",
    "lung_mask_path = \"/database/datasets/Classics/LUNA16-Mask/\"  # a folder of lung masks\n",
    "lung_image_file_list = glob(lung_image_path + \"*.mhd\")  # the absolute paths of the CT files"
   ]
  },
  {
   "cell_type": "code",
   "execution_count": 23,
   "id": "8147dd34-d9b3-40d7-9845-d3849178738a",
   "metadata": {},
   "outputs": [],
   "source": [
    "to_csv_path = \"./experiment_SPE-2023-11-08.csv\"\n",
    "# to_csv_path = \"./experiment_SPE-2023-11-10.csv\"\n",
    "\n",
    "# with open(to_csv_path, 'w', newline='', encoding='utf-8') as f:\n",
    "#     csv_write = csv.writer(f)  \n",
    "#     csv_write.writerow([f\"index\", \"path\", \"concentrate_lung_time\", \n",
    "#                         \"kem_spe\", \"kmeans_spe\", \"gmm_spe\"])"
   ]
  },
  {
   "cell_type": "code",
   "execution_count": 24,
   "id": "9b8a7794-ddbb-4533-b2bc-8a080ebdb253",
   "metadata": {},
   "outputs": [],
   "source": [
    "# a large dict to hold all the necessary information, which will be maily used via Process operations\n",
    "stats_dict = {'lung_image_path': lung_image_path,\n",
    "              'lung_mask_path': lung_mask_path,\n",
    "              'lung_image_file_list': lung_image_file_list,\n",
    "              'lung_threshold': -200,\n",
    "              'to_csv_path': to_csv_path,\n",
    "              'K': 3,\n",
    "              'training_ratio': 0.8,\n",
    "              'Ch': 0.2217,}"
   ]
  },
  {
   "cell_type": "code",
   "execution_count": 25,
   "id": "63650e28-db87-40c4-ae83-70528b4963e3",
   "metadata": {
    "scrolled": true,
    "tags": []
   },
   "outputs": [],
   "source": [
    "def experiment_compare_SPE_LUNA(stats_dict, status=None):\n",
    "    # information\n",
    "    index = stats_dict['index']\n",
    "    np.random.seed(index)\n",
    "    tf.random.set_seed(index)\n",
    "    K = stats_dict[\"K\"]\n",
    "    Ch = stats_dict[\"Ch\"]\n",
    "    lung_threshold = stats_dict[\"lung_threshold\"]\n",
    "    training_ratio = stats_dict[\"training_ratio\"]  # ratio of the voxel positions are used for training\n",
    "    lung_threshold = stats_dict[\"lung_threshold\"]\n",
    "    \n",
    "    sample_CT_path = stats_dict['lung_image_file_list'][index]\n",
    "    sample_CT_array, lung_mask_array = get_original_data_newversion(stats_dict['lung_image_path'],\n",
    "                                                                    stats_dict['lung_mask_path'], sample_CT_path)\n",
    "#     if status is not None and status == \"Large\":\n",
    "#         sample_CT_array = zoom(sample_CT_array, zoom=(0.5, 1, 1), order=0)\n",
    "#         lung_mask_array = zoom(lung_mask_array, zoom=(0.5, 1, 1), order=0)\n",
    "    print(f\"---------------WE ARE LOADING {index}th PATIENT's CT with shape {sample_CT_array.shape}---------------\")\n",
    "    \n",
    "    # Lung Concentration\n",
    "    t1 = time.time()\n",
    "    concentrated_data = lung_concentration(sample_CT_array, lung_threshold, 1, 0)\n",
    "    t2 = time.time()\n",
    "    print(f\"lung concentration: {t2 - t1:.6f}\")\n",
    "    # rescale the data\n",
    "    CT_min = concentrated_data.min()\n",
    "    CT_max = concentrated_data.max()\n",
    "    concentrated_data = (concentrated_data - CT_min) / (CT_max - CT_min)\n",
    "    # convert to tensor with shape modified\n",
    "    shape = concentrated_data.shape\n",
    "    experiment_data = tf.cast(tf.convert_to_tensor(concentrated_data), tf.float32)\n",
    "    experiment_data = tf.reshape(experiment_data, (1,) + experiment_data.shape + (1,))\n",
    "\n",
    "    # generate a mask, if =1 then are maintained as training data\n",
    "    position_mask = np.random.binomial(n=1, p=training_ratio, size=experiment_data.shape)\n",
    "    position_mask = tf.convert_to_tensor(position_mask, dtype=tf.float32)\n",
    "    training_data = position_mask * experiment_data\n",
    "    # if =0 then are maintained as testing data\n",
    "    testing_data = (1 - position_mask) * experiment_data\n",
    "    \n",
    "    # kmeans\n",
    "    kmeans_model = Kmeans(K=K,\n",
    "                          shape=shape, \n",
    "                          training_data=training_data, \n",
    "                          position_mask=position_mask, \n",
    "                          kmeans_sample_ratio=1/100/training_ratio,\n",
    "                          testing_data=testing_data)\n",
    "    kmeans_model.kmeans_algorithm(max_steps=10)\n",
    "    kmeans_spe = kmeans_model.compute_prediction_error()\n",
    "    # GMM\n",
    "    gmm_model = GMM(K=K, \n",
    "                    shape=shape, \n",
    "                    training_data=training_data, \n",
    "                    position_mask=position_mask, \n",
    "                    kmeans_sample_ratio=1/100/training_ratio,\n",
    "                    testing_data=testing_data)\n",
    "    gmm_model.gmm_algorithm(max_steps=10, epsilon=5e-3, smooth_parameter=1e-20)\n",
    "    gmm_spe = gmm_model.compute_prediction_error()\n",
    "    # KEM\n",
    "    bandwidth, kernel_shape = bandwidth_preparation_small(position_mask, Ch)\n",
    "    kem_model = KEM_SIMU_complex(K=3, \n",
    "                                  shape=shape, \n",
    "                                  training_data=training_data, \n",
    "                                  position_mask=position_mask, \n",
    "                                  kernel_shape=kernel_shape, \n",
    "                                  bandwidth=bandwidth, \n",
    "                                  kmeans_sample_ratio=1/100/training_ratio,\n",
    "                                  testing_data=testing_data)\n",
    "    kem_model.kem_algorithm(max_steps=10, epsilon=5e-3, smooth_parameter=1e-20)\n",
    "    kem_spe = kem_model.compute_prediction_error()\n",
    "    print(f\"[{index}'s SPE]\\n\\tkmeans:{kmeans_spe:.4f};\\n\\tGMM:{gmm_spe:.4f};\\n\\tKEM:{kem_spe:.4f}\")\n",
    "    with open(to_csv_path, 'a', newline='', encoding='utf-8') as f:\n",
    "        csv_write = csv.writer(f)  \n",
    "        csv_write.writerow([index, sample_CT_path, t2-t1, kem_spe, kmeans_spe, gmm_spe])"
   ]
  },
  {
   "cell_type": "code",
   "execution_count": 26,
   "id": "d3edc02d-4a10-4837-85ad-0dffc34d09eb",
   "metadata": {},
   "outputs": [
    {
     "data": {
      "text/plain": [
       "882"
      ]
     },
     "execution_count": 26,
     "metadata": {},
     "output_type": "execute_result"
    }
   ],
   "source": [
    "np.random.seed(0)\n",
    "index_list = np.arange(0, len(lung_image_file_list), 1)\n",
    "len(index_list)"
   ]
  },
  {
   "cell_type": "code",
   "execution_count": 18,
   "id": "875321d0-1d28-4992-848a-4f12b0fd529e",
   "metadata": {},
   "outputs": [
    {
     "name": "stdout",
     "output_type": "stream",
     "text": [
      "GPU0 with index list: [0:882]\n"
     ]
    }
   ],
   "source": [
    "idx_increase = int(len(index_list) / num_gpu)\n",
    "i = gpu_name\n",
    "idx_start = i * idx_increase\n",
    "idx_end = (i + 1) * idx_increase\n",
    "\n",
    "if i == num_gpu - 1:\n",
    "    idx_end = len(index_list)\n",
    "print(f\"GPU{gpu_name} with index list: [{idx_start}:{idx_end}]\")\n",
    "gpu_index_list = index_list[idx_start:idx_end]"
   ]
  },
  {
   "cell_type": "code",
   "execution_count": 19,
   "id": "c6c3ebc3-5772-423c-bc34-83ffbb909468",
   "metadata": {},
   "outputs": [
    {
     "name": "stdout",
     "output_type": "stream",
     "text": [
      "(881, 6)\n"
     ]
    },
    {
     "data": {
      "text/html": [
       "<div>\n",
       "<style scoped>\n",
       "    .dataframe tbody tr th:only-of-type {\n",
       "        vertical-align: middle;\n",
       "    }\n",
       "\n",
       "    .dataframe tbody tr th {\n",
       "        vertical-align: top;\n",
       "    }\n",
       "\n",
       "    .dataframe thead th {\n",
       "        text-align: right;\n",
       "    }\n",
       "</style>\n",
       "<table border=\"1\" class=\"dataframe\">\n",
       "  <thead>\n",
       "    <tr style=\"text-align: right;\">\n",
       "      <th></th>\n",
       "      <th>index</th>\n",
       "      <th>path</th>\n",
       "      <th>concentrate_lung_time</th>\n",
       "      <th>kem_spe</th>\n",
       "      <th>kmeans_spe</th>\n",
       "      <th>gmm_spe</th>\n",
       "    </tr>\n",
       "  </thead>\n",
       "  <tbody>\n",
       "    <tr>\n",
       "      <th>0</th>\n",
       "      <td>0</td>\n",
       "      <td>/database/datasets/Classics/LUNA2016/IMAGES/1....</td>\n",
       "      <td>21.203661</td>\n",
       "      <td>0.002503</td>\n",
       "      <td>0.048607</td>\n",
       "      <td>0.067517</td>\n",
       "    </tr>\n",
       "    <tr>\n",
       "      <th>1</th>\n",
       "      <td>1</td>\n",
       "      <td>/database/datasets/Classics/LUNA2016/IMAGES/1....</td>\n",
       "      <td>34.086537</td>\n",
       "      <td>0.000255</td>\n",
       "      <td>0.006496</td>\n",
       "      <td>0.008329</td>\n",
       "    </tr>\n",
       "    <tr>\n",
       "      <th>2</th>\n",
       "      <td>2</td>\n",
       "      <td>/database/datasets/Classics/LUNA2016/IMAGES/1....</td>\n",
       "      <td>13.628275</td>\n",
       "      <td>0.000337</td>\n",
       "      <td>0.006762</td>\n",
       "      <td>0.009945</td>\n",
       "    </tr>\n",
       "    <tr>\n",
       "      <th>3</th>\n",
       "      <td>3</td>\n",
       "      <td>/database/datasets/Classics/LUNA2016/IMAGES/1....</td>\n",
       "      <td>13.041714</td>\n",
       "      <td>0.002107</td>\n",
       "      <td>0.044628</td>\n",
       "      <td>0.064694</td>\n",
       "    </tr>\n",
       "    <tr>\n",
       "      <th>4</th>\n",
       "      <td>4</td>\n",
       "      <td>/database/datasets/Classics/LUNA2016/IMAGES/1....</td>\n",
       "      <td>32.506401</td>\n",
       "      <td>0.000686</td>\n",
       "      <td>0.011194</td>\n",
       "      <td>0.016357</td>\n",
       "    </tr>\n",
       "  </tbody>\n",
       "</table>\n",
       "</div>"
      ],
      "text/plain": [
       "   index                                               path  \\\n",
       "0      0  /database/datasets/Classics/LUNA2016/IMAGES/1....   \n",
       "1      1  /database/datasets/Classics/LUNA2016/IMAGES/1....   \n",
       "2      2  /database/datasets/Classics/LUNA2016/IMAGES/1....   \n",
       "3      3  /database/datasets/Classics/LUNA2016/IMAGES/1....   \n",
       "4      4  /database/datasets/Classics/LUNA2016/IMAGES/1....   \n",
       "\n",
       "   concentrate_lung_time   kem_spe  kmeans_spe   gmm_spe  \n",
       "0              21.203661  0.002503    0.048607  0.067517  \n",
       "1              34.086537  0.000255    0.006496  0.008329  \n",
       "2              13.628275  0.000337    0.006762  0.009945  \n",
       "3              13.041714  0.002107    0.044628  0.064694  \n",
       "4              32.506401  0.000686    0.011194  0.016357  "
      ]
     },
     "execution_count": 19,
     "metadata": {},
     "output_type": "execute_result"
    }
   ],
   "source": [
    "exist_csv = pd.read_csv(to_csv_path)\n",
    "print(exist_csv.shape)\n",
    "exist_csv.head()"
   ]
  },
  {
   "cell_type": "code",
   "execution_count": 20,
   "id": "72d9549a-cd88-4184-ab1e-088731def53f",
   "metadata": {},
   "outputs": [
    {
     "data": {
      "text/plain": [
       "(881, 6)"
      ]
     },
     "execution_count": 20,
     "metadata": {},
     "output_type": "execute_result"
    }
   ],
   "source": [
    "exist_csv.shape"
   ]
  },
  {
   "cell_type": "code",
   "execution_count": 21,
   "id": "c467dd33-025c-4060-944a-25cada5ec70f",
   "metadata": {},
   "outputs": [],
   "source": [
    "exist_list = list(exist_csv['index'])\n",
    "rerun_list = []\n",
    "\n",
    "for i in index_list:\n",
    "    if i in exist_list:\n",
    "        continue\n",
    "    rerun_list.append(i)"
   ]
  },
  {
   "cell_type": "code",
   "execution_count": 22,
   "id": "cf2b9529-722c-4562-b5cd-fc11001a1a8e",
   "metadata": {
    "scrolled": true,
    "tags": []
   },
   "outputs": [
    {
     "name": "stdout",
     "output_type": "stream",
     "text": [
      "---------------WE ARE LOADING 871th PATIENT's CT with shape (145, 512, 512)---------------\n",
      "lung concentration: 13.575292\n"
     ]
    },
    {
     "name": "stderr",
     "output_type": "stream",
     "text": [
      "2023-11-11 03:41:28.786616: I tensorflow/core/platform/cpu_feature_guard.cc:151] This TensorFlow binary is optimized with oneAPI Deep Neural Network Library (oneDNN) to use the following CPU instructions in performance-critical operations:  AVX2 AVX512F FMA\n",
      "To enable them in other operations, rebuild TensorFlow with the appropriate compiler flags.\n",
      "2023-11-11 03:41:29.358969: I tensorflow/core/common_runtime/gpu/gpu_device.cc:1525] Created device /job:localhost/replica:0/task:0/device:GPU:0 with 46725 MB memory:  -> device: 0, name: NVIDIA A40, pci bus id: 0000:9e:00.0, compute capability: 8.6\n"
     ]
    },
    {
     "name": "stdout",
     "output_type": "stream",
     "text": [
      "From function(__init__): Randomly pick 0.0125 data for kmeans.\n"
     ]
    },
    {
     "name": "stderr",
     "output_type": "stream",
     "text": [
      "/root/miniconda3/envs/myconda/lib/python3.9/site-packages/sklearn/cluster/_kmeans.py:1305: RuntimeWarning: Explicit initial center position passed: performing only one init in KMeans instead of n_init=10.\n",
      "  super()._check_params(X)\n"
     ]
    },
    {
     "name": "stdout",
     "output_type": "stream",
     "text": [
      "From function(__init__): Initialize mu via kmeans(with K=3)\n",
      "From function(__init__): Randomly pick 0.01251 data for kmeans.\n",
      "From function(__init__): KMeans(with K=3) success, with time: 0.8822 seconds\n",
      "\tcenters: [0.8474829  0.37916645 0.17306656]\n",
      "From function(__init__): Initialize parameters successfully.\n",
      "\tpik_estimate:(3, 145, 512, 512, 1)\n",
      "\tpi_estimate: (3, 1, 1, 1, 1)\n",
      "\tmu_estimate: (3, 1, 1, 1, 1)\n",
      "\tsigma_estimate: (3, 1, 1, 1, 1)\n",
      "From function(gmm_algorithm): Receive max_steps: 10.\n",
      "########################## STEP 0 ##########################\n",
      "\t Current pik difference: 0.221314\n",
      "From function(gmm_algorithm): E step success.\n",
      "pi_estimator: [0.7012315  0.0092172  0.08950388]\n",
      "\n",
      "mu_estimate: [0.8474829  0.37916645 0.17306656]\n",
      "sigma_estimator: [0.0061678  0.09284314 0.03777297]\n",
      "\t Current pi difference: 0.099951\n",
      "\t Current mu difference: 3.12388e-05\n",
      "\t Current sigma difference: 0.0013021\n",
      "From function(gmm_algorithm): M step success.\n",
      "From function(gmm_algorithm): difference: 0.101284.\n",
      "---This iteration step costs 0.07134 seconds.---\n",
      "########################## STEP 1 ##########################\n",
      "\t Current pik difference: 0.0160316\n",
      "From function(gmm_algorithm): E step success.\n",
      "pi_estimator: [0.70010775 0.01105873 0.08878534]\n",
      "\n",
      "mu_estimate: [0.848453   0.3695522  0.17248234]\n",
      "sigma_estimator: [0.00114221 0.14574528 0.03740486]\n",
      "\t Current pi difference: 1.72344e-06\n",
      "\t Current mu difference: 0.000200278\n",
      "\t Current sigma difference: 0.000941343\n",
      "From function(gmm_algorithm): M step success.\n",
      "From function(gmm_algorithm): difference: 0.00114334.\n",
      "---This iteration step costs 0.06861 seconds.---\n",
      "From function(__init__): Initialize mu via kmeans(with K=3)\n",
      "From function(__init__): Randomly pick 0.0125 positions for kmeans.\n",
      "From function(__init__): KMeans(with K=3) success, with time: 0.8744 seconds\n",
      "\tcenters: [0.8474903  0.38908407 0.17324889]\n",
      "From function(__init__): Initialize parameters successfully.\n",
      "\tpik_estimate:(3, 145, 512, 512, 1)\n",
      "\tpi_estimate: (3, 145, 512, 512, 1)\n",
      "\tmu_estimate: (3, 145, 512, 512, 1)\n",
      "\tsigma_estimate: (3, 145, 512, 512, 1)\n",
      "From function(__init__): Initialize kernel successfully.\n",
      "\tkernel: (9, 9, 9, 1, 1)\n",
      "From function(kem_algorithm): Receive max_steps: 10.\n"
     ]
    },
    {
     "name": "stderr",
     "output_type": "stream",
     "text": [
      "2023-11-11 03:41:38.357416: I tensorflow/stream_executor/cuda/cuda_dnn.cc:368] Loaded cuDNN version 8101\n"
     ]
    },
    {
     "name": "stdout",
     "output_type": "stream",
     "text": [
      "########################## STEP 0 ##########################\n",
      "\t Current pik difference: 0.221441\n",
      "From function(kem_algorithm): E step success.\n",
      "+++ From m_step: add smooth_parameter to pi_estimate\n",
      "From m_step: add smooth_parameter to sigma_estimate\n",
      "\t Current pi difference: 0.210157\n",
      "\t Current mu difference: 1.2896e+24\n",
      "\t Current sigma difference: nan\n",
      "From function(kem_algorithm): M step success.\n",
      "From function(kem_algorithm): difference: nan.\n",
      "---This iteration step costs 14.5 seconds.---\n",
      "[871's SPE]\n",
      "\tkmeans:0.0474;\n",
      "\tGMM:0.0707;\n",
      "\tKEM:0.0023\n"
     ]
    }
   ],
   "source": [
    "for index in rerun_list:\n",
    "    np.random.seed(index)\n",
    "    tf.random.set_seed(index)\n",
    "    stats_dict['index'] = index\n",
    "    process_eval = Process(target=experiment_compare_SPE_LUNA, args=(stats_dict,))\n",
    "    process_eval.start()\n",
    "    process_eval.join()"
   ]
  },
  {
   "cell_type": "markdown",
   "id": "8fc78332-5b4a-4ef6-9426-3320742e9429",
   "metadata": {},
   "source": [
    "548-764"
   ]
  },
  {
   "cell_type": "code",
   "execution_count": null,
   "id": "6d805b92-dd4e-4077-82a8-f696329ca10b",
   "metadata": {},
   "outputs": [],
   "source": []
  }
 ],
 "metadata": {
  "kernelspec": {
   "display_name": "myconda",
   "language": "python",
   "name": "myconda"
  },
  "language_info": {
   "codemirror_mode": {
    "name": "ipython",
    "version": 3
   },
   "file_extension": ".py",
   "mimetype": "text/x-python",
   "name": "python",
   "nbconvert_exporter": "python",
   "pygments_lexer": "ipython3",
   "version": "3.9.12"
  }
 },
 "nbformat": 4,
 "nbformat_minor": 5
}
